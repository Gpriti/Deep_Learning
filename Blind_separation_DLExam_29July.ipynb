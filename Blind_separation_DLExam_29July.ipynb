{
 "cells": [
  {
   "cell_type": "markdown",
   "metadata": {
    "id": "J1lPGXFgpEZ_"
   },
   "source": [
    "Blind source separation¶\n",
    "The purpose of the project is to separate an image obtained as a sum of a two images into its components.\n",
    "\n",
    "The two images img1 and img2 summed together come from different dataset: mnist and fashion_mnist, respectively.\n",
    "\n",
    "No preprocessing is allowed. The network takes in input the sum img1+img2 and returns the predicted components hat_img1 and hat_img2.\n",
    "\n",
    "The metric used to evaluate the project is the mean squared error between predicted and ground truth images"
   ]
  },
  {
   "cell_type": "code",
   "execution_count": 14,
   "metadata": {
    "id": "waKCj-OPpIJ0"
   },
   "outputs": [],
   "source": [
    "import tensorflow as tf\n",
    "from tensorflow.keras import layers\n",
    "from tensorflow.keras.datasets import mnist, fashion_mnist\n",
    "from tensorflow.keras.optimizers import Adam\n",
    "from tensorflow.keras.models import Model\n",
    "\n",
    "import numpy as np\n",
    "from matplotlib import pyplot as plt"
   ]
  },
  {
   "cell_type": "markdown",
   "metadata": {
    "id": "5dUdyNxspMmF"
   },
   "source": [
    "Here we load the two datasets, mnist and fashion mnist (both in grayscale).\n",
    "\n",
    "For simplicity, the samples are padded to dimension (32,32)."
   ]
  },
  {
   "cell_type": "code",
   "execution_count": 15,
   "metadata": {
    "colab": {
     "base_uri": "https://localhost:8080/"
    },
    "id": "oMSeqhcFpNUz",
    "outputId": "dc6e7065-da37-42bb-81bb-23ba75eb1c3c"
   },
   "outputs": [
    {
     "name": "stdout",
     "output_type": "stream",
     "text": [
      "(60000, 28, 28)\n",
      "(60000, 32, 32)\n"
     ]
    }
   ],
   "source": [
    "(mnist_x_train, mnist_y_train), (mnist_x_test, mnist_y_test) = mnist.load_data()\n",
    "print(np.shape(mnist_x_train))\n",
    "(fashion_mnist_x_train, fashion_mnist_y_train), (fashion_mnist_x_test, fashion_mnist_y_test) = fashion_mnist.load_data()\n",
    "#normnalize in and pad\n",
    "mnist_x_train = np.pad(mnist_x_train,((0,0),(2,2),(2,2)))/255.\n",
    "print(np.shape(mnist_x_train))\n",
    "mnist_x_test = np.pad(mnist_x_test,((0,0),(2,2),(2,2)))/255.\n",
    "fashion_mnist_x_train = np.pad(fashion_mnist_x_train,((0,0),(2,2),(2,2)))/255.\n",
    "fashion_mnist_x_test = np.pad(fashion_mnist_x_test,((0,0),(2,2),(2,2)))/255."
   ]
  },
  {
   "cell_type": "code",
   "execution_count": 16,
   "metadata": {
    "colab": {
     "base_uri": "https://localhost:8080/"
    },
    "id": "x4-U7AwZpRXz",
    "outputId": "2b5cc6ac-ad2e-4ae2-a336-24c203c449ce"
   },
   "outputs": [
    {
     "name": "stdout",
     "output_type": "stream",
     "text": [
      "(60000, 32, 32)\n"
     ]
    }
   ],
   "source": [
    "print(np.shape(mnist_x_train))"
   ]
  },
  {
   "cell_type": "markdown",
   "metadata": {
    "id": "nUIYt9dtpVeC"
   },
   "source": [
    "Here is a simple datagenerator."
   ]
  },
  {
   "cell_type": "code",
   "execution_count": 17,
   "metadata": {
    "id": "0_0gdXYcpYvM"
   },
   "outputs": [],
   "source": [
    "def datagenerator(x1,x2,batchsize):\n",
    "    n1 = x1.shape[0]\n",
    "    n2 = x2.shape[0]\n",
    "    while True:\n",
    "        num1 = np.random.randint(0, n1, batchsize)\n",
    "        num2 = np.random.randint(0, n2, batchsize)\n",
    "\n",
    "        x_data = (x1[num1] + x2[num2]) / 2.0\n",
    "        y_data = np.concatenate((x1[num1], x2[num2]), axis=2)\n",
    "\n",
    "        yield x_data, y_data "
   ]
  },
  {
   "cell_type": "markdown",
   "metadata": {
    "id": "Hc35-Yu0pcBW"
   },
   "source": [
    "Here we define two generators, one for training and one for testing. You may possibly add an addition generator for validation, further splitting the dataset."
   ]
  },
  {
   "cell_type": "code",
   "execution_count": 18,
   "metadata": {
    "id": "rC3Dw_mCpfEw"
   },
   "outputs": [],
   "source": [
    "batchsize = 16\n",
    "inputShape = (32,32,1)"
   ]
  },
  {
   "cell_type": "code",
   "execution_count": 19,
   "metadata": {
    "id": "IivU2Nuxphja"
   },
   "outputs": [],
   "source": [
    "train_generator = datagenerator(mnist_x_train,fashion_mnist_x_train,batchsize)\n",
    "test_generator = datagenerator(mnist_x_test,fashion_mnist_x_test,batchsize)\n",
    "validation_generator = datagenerator(mnist_x_test,fashion_mnist_x_test,batchsize)"
   ]
  },
  {
   "cell_type": "code",
   "execution_count": 20,
   "metadata": {
    "colab": {
     "base_uri": "https://localhost:8080/",
     "height": 553
    },
    "id": "EGNcu-EPpjxE",
    "outputId": "ab72eece-7812-4b05-b7d1-c32780059337"
   },
   "outputs": [
    {
     "name": "stdout",
     "output_type": "stream",
     "text": [
      "This is the X_train image or the input image to the model\n"
     ]
    },
    {
     "data": {
      "image/png": "[encoded data removed]",
      "text/plain": [
       "<Figure size 432x288 with 1 Axes>"
      ]
     },
     "metadata": {
      "needs_background": "light"
     },
     "output_type": "display_data"
    },
    {
     "name": "stdout",
     "output_type": "stream",
     "text": [
      "This is the desired output\n"
     ]
    },
    {
     "data": {
      "image/png": "[encoded data removed]",
      "text/plain": [
       "<Figure size 432x288 with 1 Axes>"
      ]
     },
     "metadata": {
      "needs_background": "light"
     },
     "output_type": "display_data"
    },
    {
     "name": "stdout",
     "output_type": "stream",
     "text": [
      "(32, 32)\n",
      "(32, 64)\n",
      "(16, 32, 32)\n"
     ]
    }
   ],
   "source": [
    "x, y = next(train_generator)\n",
    "plt.imshow(x[0],cmap='gray', interpolation='nearest')\n",
    "print(\"This is the X_train image or the input image to the model\")\n",
    "plt.show()\n",
    "plt.imshow(y[0], cmap='gray', interpolation='nearest')\n",
    "print(\"This is the desired output\")\n",
    "plt.show()\n",
    "\n",
    "print(x[0].shape)\n",
    "print(y[0].shape)\n",
    "print(x.shape)"
   ]
  },
  {
   "cell_type": "markdown",
   "metadata": {},
   "source": [
    "# "
   ]
  },
  {
   "cell_type": "code",
   "execution_count": 21,
   "metadata": {
    "id": "RRWDingppvKX"
   },
   "outputs": [],
   "source": [
    "def build_model():\n",
    "  input = layers.Input(shape=(32, 32, 1))\n",
    "\n",
    "  # Encoder\n",
    "  x = layers.Conv2D(filters=64, kernel_size=(3,3), strides=(1,1), padding='same')(input)\n",
    "  x = layers.ReLU()(x)\n",
    "    # 15 layers, Conv+BN+relu\n",
    "  for i in range(15):\n",
    "    x = layers.Conv2D(filters=64, kernel_size=(3,3), strides=(1,1), padding='same')(x)\n",
    "    x = layers.BatchNormalization()(x)\n",
    "    x = layers.ReLU()(x)   \n",
    "    # last layer, Conv\n",
    "  x = layers.Conv2D(filters=1, kernel_size=(3,3), strides=(1,1), padding='same')(x)\n",
    "  output1 = layers.Subtract()([input, x])\n",
    "\n",
    "  # Encoder\n",
    "    # 1st layer, Conv+relu\n",
    "  x = layers.Conv2D(filters=64, kernel_size=(3,3), strides=(1,1), padding='same')(input)\n",
    "  x = layers.ReLU()(x)\n",
    "    # 15 layers, Conv+BN+relu\n",
    "  for i in range(15):\n",
    "    x = layers.Conv2D(filters=64, kernel_size=(3,3), strides=(1,1), padding='same')(x)\n",
    "    x = layers.BatchNormalization()(x)\n",
    "    x = layers.ReLU()(x)   \n",
    "    # last layer, Conv\n",
    "  x = layers.Conv2D(filters=1, kernel_size=(3,3), strides=(1,1), padding='same')(x)\n",
    "  output2 = layers.Subtract()([input, x])   # input - noise\n",
    "\n",
    "\n",
    "  y = layers.Concatenate(axis=2)([output1,output2])\n",
    "  # Autoencoder\n",
    "  autoencoder = Model(input, y)\n",
    "  return autoencoder\n",
    "\n"
   ]
  },
  {
   "cell_type": "code",
   "execution_count": null,
   "metadata": {},
   "outputs": [],
   "source": [
    "autoencoder=build_model()"
   ]
  },
  {
   "cell_type": "code",
   "execution_count": 22,
   "metadata": {
    "colab": {
     "base_uri": "https://localhost:8080/"
    },
    "id": "7FE7eAi9AlDJ",
    "outputId": "66f1ce77-b1e4-4ee6-ca4d-6ce6974b65e7",
    "scrolled": false
   },
   "outputs": [
    {
     "name": "stdout",
     "output_type": "stream",
     "text": [
      "Model: \"model_1\"\n",
      "__________________________________________________________________________________________________\n",
      " Layer (type)                   Output Shape         Param #     Connected to                     \n",
      "==================================================================================================\n",
      " input_2 (InputLayer)           [(None, 32, 32, 1)]  0           []                               \n",
      "                                                                                                  \n",
      " conv2d_34 (Conv2D)             (None, 32, 32, 64)   640         ['input_2[0][0]']                \n",
      "                                                                                                  \n",
      " conv2d_51 (Conv2D)             (None, 32, 32, 64)   640         ['input_2[0][0]']                \n",
      "                                                                                                  \n",
      " re_lu_32 (ReLU)                (None, 32, 32, 64)   0           ['conv2d_34[0][0]']              \n",
      "                                                                                                  \n",
      " re_lu_48 (ReLU)                (None, 32, 32, 64)   0           ['conv2d_51[0][0]']              \n",
      "                                                                                                  \n",
      " conv2d_35 (Conv2D)             (None, 32, 32, 64)   36928       ['re_lu_32[0][0]']               \n",
      "                                                                                                  \n",
      " conv2d_52 (Conv2D)             (None, 32, 32, 64)   36928       ['re_lu_48[0][0]']               \n",
      "                                                                                                  \n",
      " batch_normalization_30 (BatchN  (None, 32, 32, 64)  256         ['conv2d_35[0][0]']              \n",
      " ormalization)                                                                                    \n",
      "                                                                                                  \n",
      " batch_normalization_45 (BatchN  (None, 32, 32, 64)  256         ['conv2d_52[0][0]']              \n",
      " ormalization)                                                                                    \n",
      "                                                                                                  \n",
      " re_lu_33 (ReLU)                (None, 32, 32, 64)   0           ['batch_normalization_30[0][0]'] \n",
      "                                                                                                  \n",
      " re_lu_49 (ReLU)                (None, 32, 32, 64)   0           ['batch_normalization_45[0][0]'] \n",
      "                                                                                                  \n",
      " conv2d_36 (Conv2D)             (None, 32, 32, 64)   36928       ['re_lu_33[0][0]']               \n",
      "                                                                                                  \n",
      " conv2d_53 (Conv2D)             (None, 32, 32, 64)   36928       ['re_lu_49[0][0]']               \n",
      "                                                                                                  \n",
      " batch_normalization_31 (BatchN  (None, 32, 32, 64)  256         ['conv2d_36[0][0]']              \n",
      " ormalization)                                                                                    \n",
      "                                                                                                  \n",
      " batch_normalization_46 (BatchN  (None, 32, 32, 64)  256         ['conv2d_53[0][0]']              \n",
      " ormalization)                                                                                    \n",
      "                                                                                                  \n",
      " re_lu_34 (ReLU)                (None, 32, 32, 64)   0           ['batch_normalization_31[0][0]'] \n",
      "                                                                                                  \n",
      " re_lu_50 (ReLU)                (None, 32, 32, 64)   0           ['batch_normalization_46[0][0]'] \n",
      "                                                                                                  \n",
      " conv2d_37 (Conv2D)             (None, 32, 32, 64)   36928       ['re_lu_34[0][0]']               \n",
      "                                                                                                  \n",
      " conv2d_54 (Conv2D)             (None, 32, 32, 64)   36928       ['re_lu_50[0][0]']               \n",
      "                                                                                                  \n",
      " batch_normalization_32 (BatchN  (None, 32, 32, 64)  256         ['conv2d_37[0][0]']              \n",
      " ormalization)                                                                                    \n",
      "                                                                                                  \n",
      " batch_normalization_47 (BatchN  (None, 32, 32, 64)  256         ['conv2d_54[0][0]']              \n",
      " ormalization)                                                                                    \n",
      "                                                                                                  \n",
      " re_lu_35 (ReLU)                (None, 32, 32, 64)   0           ['batch_normalization_32[0][0]'] \n",
      "                                                                                                  \n",
      " re_lu_51 (ReLU)                (None, 32, 32, 64)   0           ['batch_normalization_47[0][0]'] \n",
      "                                                                                                  \n",
      " conv2d_38 (Conv2D)             (None, 32, 32, 64)   36928       ['re_lu_35[0][0]']               \n",
      "                                                                                                  \n",
      " conv2d_55 (Conv2D)             (None, 32, 32, 64)   36928       ['re_lu_51[0][0]']               \n",
      "                                                                                                  \n",
      " batch_normalization_33 (BatchN  (None, 32, 32, 64)  256         ['conv2d_38[0][0]']              \n",
      " ormalization)                                                                                    \n",
      "                                                                                                  \n",
      " batch_normalization_48 (BatchN  (None, 32, 32, 64)  256         ['conv2d_55[0][0]']              \n",
      " ormalization)                                                                                    \n",
      "                                                                                                  \n",
      " re_lu_36 (ReLU)                (None, 32, 32, 64)   0           ['batch_normalization_33[0][0]'] \n",
      "                                                                                                  \n",
      " re_lu_52 (ReLU)                (None, 32, 32, 64)   0           ['batch_normalization_48[0][0]'] \n",
      "                                                                                                  \n",
      " conv2d_39 (Conv2D)             (None, 32, 32, 64)   36928       ['re_lu_36[0][0]']               \n",
      "                                                                                                  \n",
      " conv2d_56 (Conv2D)             (None, 32, 32, 64)   36928       ['re_lu_52[0][0]']               \n",
      "                                                                                                  \n",
      " batch_normalization_34 (BatchN  (None, 32, 32, 64)  256         ['conv2d_39[0][0]']              \n",
      " ormalization)                                                                                    \n",
      "                                                                                                  \n",
      " batch_normalization_49 (BatchN  (None, 32, 32, 64)  256         ['conv2d_56[0][0]']              \n",
      " ormalization)                                                                                    \n",
      "                                                                                                  \n",
      " re_lu_37 (ReLU)                (None, 32, 32, 64)   0           ['batch_normalization_34[0][0]'] \n",
      "                                                                                                  \n",
      " re_lu_53 (ReLU)                (None, 32, 32, 64)   0           ['batch_normalization_49[0][0]'] \n",
      "                                                                                                  \n",
      " conv2d_40 (Conv2D)             (None, 32, 32, 64)   36928       ['re_lu_37[0][0]']               \n",
      "                                                                                                  \n",
      " conv2d_57 (Conv2D)             (None, 32, 32, 64)   36928       ['re_lu_53[0][0]']               \n",
      "                                                                                                  \n",
      " batch_normalization_35 (BatchN  (None, 32, 32, 64)  256         ['conv2d_40[0][0]']              \n",
      " ormalization)                                                                                    \n",
      "                                                                                                  \n",
      " batch_normalization_50 (BatchN  (None, 32, 32, 64)  256         ['conv2d_57[0][0]']              \n",
      " ormalization)                                                                                    \n",
      "                                                                                                  \n",
      " re_lu_38 (ReLU)                (None, 32, 32, 64)   0           ['batch_normalization_35[0][0]'] \n",
      "                                                                                                  \n",
      " re_lu_54 (ReLU)                (None, 32, 32, 64)   0           ['batch_normalization_50[0][0]'] \n",
      "                                                                                                  \n",
      " conv2d_41 (Conv2D)             (None, 32, 32, 64)   36928       ['re_lu_38[0][0]']               \n",
      "                                                                                                  \n",
      " conv2d_58 (Conv2D)             (None, 32, 32, 64)   36928       ['re_lu_54[0][0]']               \n",
      "                                                                                                  \n",
      " batch_normalization_36 (BatchN  (None, 32, 32, 64)  256         ['conv2d_41[0][0]']              \n",
      " ormalization)                                                                                    \n",
      "                                                                                                  \n",
      " batch_normalization_51 (BatchN  (None, 32, 32, 64)  256         ['conv2d_58[0][0]']              \n",
      " ormalization)                                                                                    \n",
      "                                                                                                  \n",
      " re_lu_39 (ReLU)                (None, 32, 32, 64)   0           ['batch_normalization_36[0][0]'] \n",
      "                                                                                                  \n",
      " re_lu_55 (ReLU)                (None, 32, 32, 64)   0           ['batch_normalization_51[0][0]'] \n",
      "                                                                                                  \n",
      " conv2d_42 (Conv2D)             (None, 32, 32, 64)   36928       ['re_lu_39[0][0]']               \n",
      "                                                                                                  \n",
      " conv2d_59 (Conv2D)             (None, 32, 32, 64)   36928       ['re_lu_55[0][0]']               \n",
      "                                                                                                  \n",
      " batch_normalization_37 (BatchN  (None, 32, 32, 64)  256         ['conv2d_42[0][0]']              \n",
      " ormalization)                                                                                    \n",
      "                                                                                                  \n",
      " batch_normalization_52 (BatchN  (None, 32, 32, 64)  256         ['conv2d_59[0][0]']              \n",
      " ormalization)                                                                                    \n",
      "                                                                                                  \n",
      " re_lu_40 (ReLU)                (None, 32, 32, 64)   0           ['batch_normalization_37[0][0]'] \n",
      "                                                                                                  \n",
      " re_lu_56 (ReLU)                (None, 32, 32, 64)   0           ['batch_normalization_52[0][0]'] \n",
      "                                                                                                  \n",
      " conv2d_43 (Conv2D)             (None, 32, 32, 64)   36928       ['re_lu_40[0][0]']               \n",
      "                                                                                                  \n",
      " conv2d_60 (Conv2D)             (None, 32, 32, 64)   36928       ['re_lu_56[0][0]']               \n",
      "                                                                                                  \n",
      " batch_normalization_38 (BatchN  (None, 32, 32, 64)  256         ['conv2d_43[0][0]']              \n",
      " ormalization)                                                                                    \n",
      "                                                                                                  \n",
      " batch_normalization_53 (BatchN  (None, 32, 32, 64)  256         ['conv2d_60[0][0]']              \n",
      " ormalization)                                                                                    \n",
      "                                                                                                  \n",
      " re_lu_41 (ReLU)                (None, 32, 32, 64)   0           ['batch_normalization_38[0][0]'] \n",
      "                                                                                                  \n",
      " re_lu_57 (ReLU)                (None, 32, 32, 64)   0           ['batch_normalization_53[0][0]'] \n",
      "                                                                                                  \n",
      " conv2d_44 (Conv2D)             (None, 32, 32, 64)   36928       ['re_lu_41[0][0]']               \n",
      "                                                                                                  \n",
      " conv2d_61 (Conv2D)             (None, 32, 32, 64)   36928       ['re_lu_57[0][0]']               \n",
      "                                                                                                  \n",
      " batch_normalization_39 (BatchN  (None, 32, 32, 64)  256         ['conv2d_44[0][0]']              \n",
      " ormalization)                                                                                    \n",
      "                                                                                                  \n",
      " batch_normalization_54 (BatchN  (None, 32, 32, 64)  256         ['conv2d_61[0][0]']              \n",
      " ormalization)                                                                                    \n",
      "                                                                                                  \n",
      " re_lu_42 (ReLU)                (None, 32, 32, 64)   0           ['batch_normalization_39[0][0]'] \n",
      "                                                                                                  \n",
      " re_lu_58 (ReLU)                (None, 32, 32, 64)   0           ['batch_normalization_54[0][0]'] \n",
      "                                                                                                  \n",
      " conv2d_45 (Conv2D)             (None, 32, 32, 64)   36928       ['re_lu_42[0][0]']               \n",
      "                                                                                                  \n",
      " conv2d_62 (Conv2D)             (None, 32, 32, 64)   36928       ['re_lu_58[0][0]']               \n",
      "                                                                                                  \n",
      " batch_normalization_40 (BatchN  (None, 32, 32, 64)  256         ['conv2d_45[0][0]']              \n",
      " ormalization)                                                                                    \n",
      "                                                                                                  \n",
      " batch_normalization_55 (BatchN  (None, 32, 32, 64)  256         ['conv2d_62[0][0]']              \n",
      " ormalization)                                                                                    \n",
      "                                                                                                  \n",
      " re_lu_43 (ReLU)                (None, 32, 32, 64)   0           ['batch_normalization_40[0][0]'] \n",
      "                                                                                                  \n",
      " re_lu_59 (ReLU)                (None, 32, 32, 64)   0           ['batch_normalization_55[0][0]'] \n",
      "                                                                                                  \n",
      " conv2d_46 (Conv2D)             (None, 32, 32, 64)   36928       ['re_lu_43[0][0]']               \n",
      "                                                                                                  \n",
      " conv2d_63 (Conv2D)             (None, 32, 32, 64)   36928       ['re_lu_59[0][0]']               \n",
      "                                                                                                  \n",
      " batch_normalization_41 (BatchN  (None, 32, 32, 64)  256         ['conv2d_46[0][0]']              \n",
      " ormalization)                                                                                    \n",
      "                                                                                                  \n",
      " batch_normalization_56 (BatchN  (None, 32, 32, 64)  256         ['conv2d_63[0][0]']              \n",
      " ormalization)                                                                                    \n",
      "                                                                                                  \n",
      " re_lu_44 (ReLU)                (None, 32, 32, 64)   0           ['batch_normalization_41[0][0]'] \n",
      "                                                                                                  \n",
      " re_lu_60 (ReLU)                (None, 32, 32, 64)   0           ['batch_normalization_56[0][0]'] \n",
      "                                                                                                  \n",
      " conv2d_47 (Conv2D)             (None, 32, 32, 64)   36928       ['re_lu_44[0][0]']               \n",
      "                                                                                                  \n",
      " conv2d_64 (Conv2D)             (None, 32, 32, 64)   36928       ['re_lu_60[0][0]']               \n",
      "                                                                                                  \n",
      " batch_normalization_42 (BatchN  (None, 32, 32, 64)  256         ['conv2d_47[0][0]']              \n",
      " ormalization)                                                                                    \n",
      "                                                                                                  \n",
      " batch_normalization_57 (BatchN  (None, 32, 32, 64)  256         ['conv2d_64[0][0]']              \n",
      " ormalization)                                                                                    \n",
      "                                                                                                  \n",
      " re_lu_45 (ReLU)                (None, 32, 32, 64)   0           ['batch_normalization_42[0][0]'] \n",
      "                                                                                                  \n",
      " re_lu_61 (ReLU)                (None, 32, 32, 64)   0           ['batch_normalization_57[0][0]'] \n",
      "                                                                                                  \n",
      " conv2d_48 (Conv2D)             (None, 32, 32, 64)   36928       ['re_lu_45[0][0]']               \n",
      "                                                                                                  \n",
      " conv2d_65 (Conv2D)             (None, 32, 32, 64)   36928       ['re_lu_61[0][0]']               \n",
      "                                                                                                  \n",
      " batch_normalization_43 (BatchN  (None, 32, 32, 64)  256         ['conv2d_48[0][0]']              \n",
      " ormalization)                                                                                    \n",
      "                                                                                                  \n",
      " batch_normalization_58 (BatchN  (None, 32, 32, 64)  256         ['conv2d_65[0][0]']              \n",
      " ormalization)                                                                                    \n",
      "                                                                                                  \n",
      " re_lu_46 (ReLU)                (None, 32, 32, 64)   0           ['batch_normalization_43[0][0]'] \n",
      "                                                                                                  \n",
      " re_lu_62 (ReLU)                (None, 32, 32, 64)   0           ['batch_normalization_58[0][0]'] \n",
      "                                                                                                  \n",
      " conv2d_49 (Conv2D)             (None, 32, 32, 64)   36928       ['re_lu_46[0][0]']               \n",
      "                                                                                                  \n",
      " conv2d_66 (Conv2D)             (None, 32, 32, 64)   36928       ['re_lu_62[0][0]']               \n",
      "                                                                                                  \n",
      " batch_normalization_44 (BatchN  (None, 32, 32, 64)  256         ['conv2d_49[0][0]']              \n",
      " ormalization)                                                                                    \n",
      "                                                                                                  \n",
      " batch_normalization_59 (BatchN  (None, 32, 32, 64)  256         ['conv2d_66[0][0]']              \n",
      " ormalization)                                                                                    \n",
      "                                                                                                  \n",
      " re_lu_47 (ReLU)                (None, 32, 32, 64)   0           ['batch_normalization_44[0][0]'] \n",
      "                                                                                                  \n",
      " re_lu_63 (ReLU)                (None, 32, 32, 64)   0           ['batch_normalization_59[0][0]'] \n",
      "                                                                                                  \n",
      " conv2d_50 (Conv2D)             (None, 32, 32, 1)    577         ['re_lu_47[0][0]']               \n",
      "                                                                                                  \n",
      " conv2d_67 (Conv2D)             (None, 32, 32, 1)    577         ['re_lu_63[0][0]']               \n",
      "                                                                                                  \n",
      " subtract_2 (Subtract)          (None, 32, 32, 1)    0           ['input_2[0][0]',                \n",
      "                                                                  'conv2d_50[0][0]']              \n",
      "                                                                                                  \n",
      " subtract_3 (Subtract)          (None, 32, 32, 1)    0           ['input_2[0][0]',                \n",
      "                                                                  'conv2d_67[0][0]']              \n",
      "                                                                                                  \n",
      " concatenate_1 (Concatenate)    (None, 32, 64, 1)    0           ['subtract_2[0][0]',             \n",
      "                                                                  'subtract_3[0][0]']             \n",
      "                                                                                                  \n",
      "==================================================================================================\n",
      "Total params: 1,117,954\n",
      "Trainable params: 1,114,114\n",
      "Non-trainable params: 3,840\n",
      "__________________________________________________________________________________________________\n"
     ]
    }
   ],
   "source": [
    "autoencoder.summary()"
   ]
  },
  {
   "cell_type": "code",
   "execution_count": 23,
   "metadata": {
    "id": "YBb4EQq_rhde"
   },
   "outputs": [],
   "source": [
    "autoencoder.compile(optimizer=Adam(learning_rate=1e-4),\n",
    "                  loss='mean_squared_error',\n",
    "                 metrics=['mse','accuracy'])"
   ]
  },
  {
   "cell_type": "code",
   "execution_count": 24,
   "metadata": {
    "colab": {
     "base_uri": "https://localhost:8080/"
    },
    "id": "ExsFCGH0rk9x",
    "outputId": "03a8d083-8ff7-465e-f974-bd5fe5b73aa7"
   },
   "outputs": [
    {
     "name": "stdout",
     "output_type": "stream",
     "text": [
      "Epoch 1/30\n",
      "20000/20000 [==============================] - 709s 35ms/step - loss: 0.0037 - mse: 0.0037 - accuracy: 0.7413 - val_loss: 0.0013 - val_mse: 0.0013 - val_accuracy: 0.7404\n",
      "Epoch 2/30\n",
      "20000/20000 [==============================] - 702s 35ms/step - loss: 8.8949e-04 - mse: 8.8949e-04 - accuracy: 0.7411 - val_loss: 0.0010 - val_mse: 0.0010 - val_accuracy: 0.7405\n",
      "Epoch 3/30\n",
      "20000/20000 [==============================] - 701s 35ms/step - loss: 6.8332e-04 - mse: 6.8332e-04 - accuracy: 0.7421 - val_loss: 7.7094e-04 - val_mse: 7.7094e-04 - val_accuracy: 0.7406\n",
      "Epoch 4/30\n",
      "20000/20000 [==============================] - 701s 35ms/step - loss: 6.1120e-04 - mse: 6.1120e-04 - accuracy: 0.7419 - val_loss: 7.1027e-04 - val_mse: 7.1027e-04 - val_accuracy: 0.7406\n",
      "Epoch 5/30\n",
      "20000/20000 [==============================] - 701s 35ms/step - loss: 5.5710e-04 - mse: 5.5710e-04 - accuracy: 0.7419 - val_loss: 6.8868e-04 - val_mse: 6.8868e-04 - val_accuracy: 0.7406\n",
      "Epoch 6/30\n",
      "20000/20000 [==============================] - 701s 35ms/step - loss: 5.3093e-04 - mse: 5.3093e-04 - accuracy: 0.7421 - val_loss: 8.9880e-04 - val_mse: 8.9880e-04 - val_accuracy: 0.7405\n",
      "Epoch 7/30\n",
      "20000/20000 [==============================] - 701s 35ms/step - loss: 5.0909e-04 - mse: 5.0909e-04 - accuracy: 0.7415 - val_loss: 6.5632e-04 - val_mse: 6.5632e-04 - val_accuracy: 0.7406\n",
      "Epoch 8/30\n",
      "20000/20000 [==============================] - 700s 35ms/step - loss: 4.7797e-04 - mse: 4.7797e-04 - accuracy: 0.7421 - val_loss: 5.6778e-04 - val_mse: 5.6778e-04 - val_accuracy: 0.7406\n",
      "Epoch 9/30\n",
      "20000/20000 [==============================] - 701s 35ms/step - loss: 4.6283e-04 - mse: 4.6283e-04 - accuracy: 0.7417 - val_loss: 5.3424e-04 - val_mse: 5.3424e-04 - val_accuracy: 0.7406\n",
      "Epoch 10/30\n",
      "20000/20000 [==============================] - 701s 35ms/step - loss: 4.4815e-04 - mse: 4.4815e-04 - accuracy: 0.7420 - val_loss: 5.1952e-04 - val_mse: 5.1952e-04 - val_accuracy: 0.7406\n",
      "Epoch 11/30\n",
      "20000/20000 [==============================] - 701s 35ms/step - loss: 4.3741e-04 - mse: 4.3741e-04 - accuracy: 0.7419 - val_loss: 5.2292e-04 - val_mse: 5.2292e-04 - val_accuracy: 0.7406\n",
      "Epoch 12/30\n",
      "20000/20000 [==============================] - 701s 35ms/step - loss: 4.2588e-04 - mse: 4.2588e-04 - accuracy: 0.7418 - val_loss: 6.2541e-04 - val_mse: 6.2541e-04 - val_accuracy: 0.7405\n",
      "Epoch 13/30\n",
      "20000/20000 [==============================] - 699s 35ms/step - loss: 4.2681e-04 - mse: 4.2681e-04 - accuracy: 0.7422 - val_loss: 4.8791e-04 - val_mse: 4.8791e-04 - val_accuracy: 0.7406\n",
      "Epoch 14/30\n",
      "20000/20000 [==============================] - 699s 35ms/step - loss: 4.0986e-04 - mse: 4.0986e-04 - accuracy: 0.7422 - val_loss: 5.5534e-04 - val_mse: 5.5534e-04 - val_accuracy: 0.7406\n",
      "Epoch 15/30\n",
      "20000/20000 [==============================] - 701s 35ms/step - loss: 4.0597e-04 - mse: 4.0597e-04 - accuracy: 0.7415 - val_loss: 4.9308e-04 - val_mse: 4.9308e-04 - val_accuracy: 0.7406\n",
      "Epoch 16/30\n",
      "20000/20000 [==============================] - 702s 35ms/step - loss: 4.0758e-04 - mse: 4.0758e-04 - accuracy: 0.7417 - val_loss: 4.8618e-04 - val_mse: 4.8618e-04 - val_accuracy: 0.7406\n",
      "Epoch 17/30\n",
      "20000/20000 [==============================] - 703s 35ms/step - loss: 3.9677e-04 - mse: 3.9677e-04 - accuracy: 0.7423 - val_loss: 4.8206e-04 - val_mse: 4.8206e-04 - val_accuracy: 0.7406\n",
      "Epoch 18/30\n",
      "20000/20000 [==============================] - 702s 35ms/step - loss: 3.9604e-04 - mse: 3.9604e-04 - accuracy: 0.7417 - val_loss: 4.9816e-04 - val_mse: 4.9816e-04 - val_accuracy: 0.7406\n",
      "Epoch 19/30\n",
      "20000/20000 [==============================] - 702s 35ms/step - loss: 3.9281e-04 - mse: 3.9281e-04 - accuracy: 0.7417 - val_loss: 4.7446e-04 - val_mse: 4.7446e-04 - val_accuracy: 0.7406\n",
      "Epoch 20/30\n",
      "20000/20000 [==============================] - 701s 35ms/step - loss: 3.7505e-04 - mse: 3.7505e-04 - accuracy: 0.7418 - val_loss: 4.6743e-04 - val_mse: 4.6743e-04 - val_accuracy: 0.7406\n",
      "Epoch 21/30\n",
      "20000/20000 [==============================] - 700s 35ms/step - loss: 3.8502e-04 - mse: 3.8502e-04 - accuracy: 0.7418 - val_loss: 4.8924e-04 - val_mse: 4.8924e-04 - val_accuracy: 0.7406\n",
      "Epoch 22/30\n",
      "20000/20000 [==============================] - 700s 35ms/step - loss: 3.6852e-04 - mse: 3.6852e-04 - accuracy: 0.7417 - val_loss: 4.7855e-04 - val_mse: 4.7855e-04 - val_accuracy: 0.7406\n",
      "Epoch 23/30\n",
      "20000/20000 [==============================] - 699s 35ms/step - loss: 3.6944e-04 - mse: 3.6944e-04 - accuracy: 0.7422 - val_loss: 5.3027e-04 - val_mse: 5.3027e-04 - val_accuracy: 0.7406\n",
      "Epoch 24/30\n",
      "20000/20000 [==============================] - 700s 35ms/step - loss: 3.6797e-04 - mse: 3.6797e-04 - accuracy: 0.7422 - val_loss: 4.7479e-04 - val_mse: 4.7479e-04 - val_accuracy: 0.7406\n",
      "Epoch 25/30\n",
      "20000/20000 [==============================] - 700s 35ms/step - loss: 3.6139e-04 - mse: 3.6139e-04 - accuracy: 0.7418 - val_loss: 4.6158e-04 - val_mse: 4.6158e-04 - val_accuracy: 0.7406\n",
      "Epoch 26/30\n",
      "20000/20000 [==============================] - 703s 35ms/step - loss: 3.6023e-04 - mse: 3.6023e-04 - accuracy: 0.7416 - val_loss: 4.4976e-04 - val_mse: 4.4976e-04 - val_accuracy: 0.7406\n",
      "Epoch 27/30\n",
      "20000/20000 [==============================] - 711s 36ms/step - loss: 3.5489e-04 - mse: 3.5489e-04 - accuracy: 0.7415 - val_loss: 4.3791e-04 - val_mse: 4.3791e-04 - val_accuracy: 0.7406\n",
      "Epoch 28/30\n",
      "20000/20000 [==============================] - 713s 36ms/step - loss: 3.5531e-04 - mse: 3.5531e-04 - accuracy: 0.7420 - val_loss: 4.4090e-04 - val_mse: 4.4090e-04 - val_accuracy: 0.7406\n",
      "Epoch 29/30\n",
      "20000/20000 [==============================] - 711s 36ms/step - loss: 3.5936e-04 - mse: 3.5936e-04 - accuracy: 0.7417 - val_loss: 4.2531e-04 - val_mse: 4.2531e-04 - val_accuracy: 0.7406\n",
      "Epoch 30/30\n",
      "20000/20000 [==============================] - 713s 36ms/step - loss: 3.5146e-04 - mse: 3.5146e-04 - accuracy: 0.7419 - val_loss: 4.4175e-04 - val_mse: 4.4175e-04 - val_accuracy: 0.7406\n"
     ]
    }
   ],
   "source": [
    "history=autoencoder.fit(train_generator, batch_size=batchsize, epochs=30,steps_per_epoch=20000,validation_steps= 20000,validation_data=validation_generator, workers=6, shuffle=True,use_multiprocessing=True)"
   ]
  },
  {
   "cell_type": "code",
   "execution_count": 25,
   "metadata": {
    "colab": {
     "base_uri": "https://localhost:8080/",
     "height": 803
    },
    "id": "9HooGvmkRLe_",
    "outputId": "c5085700-f4d5-4d15-adfe-fec31d9047db"
   },
   "outputs": [
    {
     "data": {
      "image/png": "[encoded data removed]",
      "text/plain": [
       "<Figure size 432x288 with 1 Axes>"
      ]
     },
     "metadata": {
      "needs_background": "light"
     },
     "output_type": "display_data"
    },
    {
     "data": {
      "image/png": "[encoded data removed]",
      "text/plain": [
       "<Figure size 432x288 with 1 Axes>"
      ]
     },
     "metadata": {
      "needs_background": "light"
     },
     "output_type": "display_data"
    },
    {
     "data": {
      "image/png": "[encoded data removed]",
      "text/plain": [
       "<Figure size 432x288 with 1 Axes>"
      ]
     },
     "metadata": {
      "needs_background": "light"
     },
     "output_type": "display_data"
    }
   ],
   "source": [
    "import matplotlib.pyplot as plt\n",
    "\n",
    "def plot_history(model_history,keys):\n",
    "    m,val_m = keys\n",
    "    plt.plot(model_history.history[m])\n",
    "    plt.plot(model_history.history[val_m])\n",
    "    plt.ylabel(m)\n",
    "    plt.xlabel('epoch')\n",
    "    plt.legend(['train', 'validation'], loc='upper left')\n",
    "    plt.show()\n",
    "\n",
    "#plot_history\n",
    "plot_history(history,['mse','val_mse'])\n",
    "plot_history(history,['loss','val_loss'])\n",
    "plot_history(history,['accuracy','val_accuracy'])\n"
   ]
  },
  {
   "cell_type": "code",
   "execution_count": 26,
   "metadata": {
    "colab": {
     "base_uri": "https://localhost:8080/"
    },
    "id": "WFjJY-FDRbrH",
    "outputId": "e5b2093a-4d59-4b8c-fe19-a0904d189513"
   },
   "outputs": [
    {
     "name": "stdout",
     "output_type": "stream",
     "text": [
      "(320000, 32, 64, 1)\n"
     ]
    }
   ],
   "source": [
    "y_pred = autoencoder.predict(test_generator,steps=20000)\n",
    "print(y_pred.shape)"
   ]
  },
  {
   "cell_type": "code",
   "execution_count": 27,
   "metadata": {
    "colab": {
     "base_uri": "https://localhost:8080/",
     "height": 217
    },
    "id": "I6wzUu7VSGcD",
    "outputId": "35d2871f-ffd1-49de-b9a9-1649704b6985"
   },
   "outputs": [
    {
     "data": {
      "image/png": "[encoded data removed]",
      "text/plain": [
       "<Figure size 432x288 with 1 Axes>"
      ]
     },
     "metadata": {
      "needs_background": "light"
     },
     "output_type": "display_data"
    }
   ],
   "source": [
    "\n",
    "plt.imshow(y_pred[0].reshape(32, 64),cmap='gray', interpolation='nearest')\n",
    "plt.show()\n",
    "\n"
   ]
  },
  {
   "cell_type": "code",
   "execution_count": 28,
   "metadata": {
    "id": "hMMhfesOSMy6"
   },
   "outputs": [],
   "source": [
    "autoencoder.save('/weights/bss.h5')"
   ]
  },
  {
   "cell_type": "code",
   "execution_count": 29,
   "metadata": {
    "colab": {
     "base_uri": "https://localhost:8080/"
    },
    "id": "kSl1saPHSQb4",
    "outputId": "fdc100e2-eb25-4269-f13f-a42661e789a6"
   },
   "outputs": [
    {
     "name": "stdout",
     "output_type": "stream",
     "text": [
      "20000/20000 [==============================] - 189s 9ms/step - loss: 4.4139e-04 - mse: 4.4139e-04 - accuracy: 0.7406\n",
      "20000/20000 [==============================] - 221s 11ms/step - loss: 4.4024e-04 - mse: 4.4024e-04 - accuracy: 0.7406\n",
      "20000/20000 [==============================] - 220s 11ms/step - loss: 4.4047e-04 - mse: 4.4047e-04 - accuracy: 0.7405\n",
      "20000/20000 [==============================] - 219s 11ms/step - loss: 4.4204e-04 - mse: 4.4204e-04 - accuracy: 0.7404\n",
      "20000/20000 [==============================] - 219s 11ms/step - loss: 4.4180e-04 - mse: 4.4180e-04 - accuracy: 0.7406\n",
      "20000/20000 [==============================] - 216s 11ms/step - loss: 4.4300e-04 - mse: 4.4300e-04 - accuracy: 0.7406\n",
      "20000/20000 [==============================] - 219s 11ms/step - loss: 4.4304e-04 - mse: 4.4304e-04 - accuracy: 0.7404\n",
      "20000/20000 [==============================] - 217s 11ms/step - loss: 4.4207e-04 - mse: 4.4207e-04 - accuracy: 0.7406\n",
      "20000/20000 [==============================] - 215s 11ms/step - loss: 4.4242e-04 - mse: 4.4242e-04 - accuracy: 0.7408\n",
      "20000/20000 [==============================] - 217s 11ms/step - loss: 4.4189e-04 - mse: 4.4189e-04 - accuracy: 0.7407\n"
     ]
    }
   ],
   "source": [
    "mse = np.zeros(10)\n",
    "for i in range(10):\n",
    "  mse[i] = autoencoder.evaluate(test_generator,steps=20000)[1]\n",
    "\n",
    "mean_mse = mse.mean()\n",
    "std = mse.std()"
   ]
  },
  {
   "cell_type": "code",
   "execution_count": 30,
   "metadata": {
    "colab": {
     "base_uri": "https://localhost:8080/"
    },
    "id": "QayLo0tZa-0j",
    "outputId": "70536e15-01a2-4501-db5f-21db2fb3788b"
   },
   "outputs": [
    {
     "name": "stdout",
     "output_type": "stream",
     "text": [
      "20000/20000 [==============================] - 217s 11ms/step - loss: 4.4044e-04 - mse: 4.4044e-04 - accuracy: 0.7406\n",
      "[0.00044044083915650845, 0.00044044083915650845, 0.7406299710273743]\n",
      "Mean mse:  0.0004418350727064535\n",
      "Standard deviation :  8.866407534857386e-07\n"
     ]
    }
   ],
   "source": [
    "print(autoencoder.evaluate(test_generator,steps=20000))\n",
    "\n",
    "print(\"Mean mse: \",mean_mse)\n",
    "\n",
    "print(\"Standard deviation : \",std)"
   ]
  }
 ],
 "metadata": {
  "accelerator": "GPU",
  "colab": {
   "machine_shape": "hm",
   "name": "Copy of Blind_separation.ipynb",
   "provenance": []
  },
  "gpuClass": "standard",
  "kernelspec": {
   "display_name": "Python 3 (ipykernel)",
   "language": "python",
   "name": "python3"
  },
  "language_info": {
   "codemirror_mode": {
    "name": "ipython",
    "version": 3
   },
   "file_extension": ".py",
   "mimetype": "text/x-python",
   "name": "python",
   "nbconvert_exporter": "python",
   "pygments_lexer": "ipython3",
   "version": "3.9.13"
  }
 },
 "nbformat": 4,
 "nbformat_minor": 1
}
